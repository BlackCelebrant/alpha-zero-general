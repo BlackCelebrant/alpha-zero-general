{
 "cells": [
  {
   "cell_type": "code",
   "execution_count": 1,
   "metadata": {},
   "outputs": [],
   "source": [
    "import chess"
   ]
  },
  {
   "cell_type": "code",
   "execution_count": null,
   "metadata": {},
   "outputs": [],
   "source": [
    "from env import ChessEnv"
   ]
  },
  {
   "cell_type": "code",
   "execution_count": 2,
   "metadata": {},
   "outputs": [],
   "source": [
    "b = chess.Board()"
   ]
  },
  {
   "cell_type": "code",
   "execution_count": null,
   "metadata": {},
   "outputs": [],
   "source": [
    "env = ChessEnv()"
   ]
  },
  {
   "cell_type": "code",
   "execution_count": null,
   "metadata": {},
   "outputs": [],
   "source": [
    "env = env.reset()"
   ]
  },
  {
   "cell_type": "code",
   "execution_count": null,
   "metadata": {},
   "outputs": [],
   "source": [
    "env.white_to_move"
   ]
  },
  {
   "cell_type": "code",
   "execution_count": null,
   "metadata": {},
   "outputs": [],
   "source": [
    "env.observation"
   ]
  },
  {
   "cell_type": "code",
   "execution_count": null,
   "metadata": {},
   "outputs": [],
   "source": [
    "str(list(env.board.legal_moves)[0])"
   ]
  },
  {
   "cell_type": "code",
   "execution_count": null,
   "metadata": {},
   "outputs": [],
   "source": [
    "env.board.observation"
   ]
  },
  {
   "cell_type": "code",
   "execution_count": null,
   "metadata": {},
   "outputs": [],
   "source": [
    "chess.Board()"
   ]
  },
  {
   "cell_type": "code",
   "execution_count": null,
   "metadata": {},
   "outputs": [],
   "source": [
    "env.step('g1h3')"
   ]
  },
  {
   "cell_type": "code",
   "execution_count": null,
   "metadata": {},
   "outputs": [],
   "source": [
    "print(env.board)"
   ]
  },
  {
   "cell_type": "code",
   "execution_count": null,
   "metadata": {},
   "outputs": [],
   "source": [
    "env.board.fen()"
   ]
  },
  {
   "cell_type": "code",
   "execution_count": null,
   "metadata": {},
   "outputs": [],
   "source": [
    "env.board.turn"
   ]
  },
  {
   "cell_type": "code",
   "execution_count": null,
   "metadata": {},
   "outputs": [],
   "source": [
    "def create_uci_labels():\n",
    "    \"\"\"\n",
    "    Creates the labels for the universal chess interface into an array and returns them\n",
    "    :return:\n",
    "    \"\"\"\n",
    "    labels_array = []\n",
    "    letters = ['a', 'b', 'c', 'd', 'e', 'f', 'g', 'h']\n",
    "    numbers = ['1', '2', '3', '4', '5', '6', '7', '8']\n",
    "    promoted_to = ['q', 'r', 'b', 'n']\n",
    "\n",
    "    for l1 in range(8):\n",
    "        for n1 in range(8):\n",
    "            destinations = [(t, n1) for t in range(8)] + \\\n",
    "                           [(l1, t) for t in range(8)] + \\\n",
    "                           [(l1 + t, n1 + t) for t in range(-7, 8)] + \\\n",
    "                           [(l1 + t, n1 - t) for t in range(-7, 8)] + \\\n",
    "                           [(l1 + a, n1 + b) for (a, b) in\n",
    "                            [(-2, -1), (-1, -2), (-2, 1), (1, -2), (2, -1), (-1, 2), (2, 1), (1, 2)]]\n",
    "            for (l2, n2) in destinations:\n",
    "                if (l1, n1) != (l2, n2) and l2 in range(8) and n2 in range(8):\n",
    "                    move = letters[l1] + numbers[n1] + letters[l2] + numbers[n2]\n",
    "                    labels_array.append(move)\n",
    "    print(len(labels_array))\n",
    "    for l1 in range(8):\n",
    "        l = letters[l1]\n",
    "        for p in promoted_to:\n",
    "            labels_array.append(l + '2' + l + '1' + p)\n",
    "            labels_array.append(l + '7' + l + '8' + p)\n",
    "            if l1 > 0:\n",
    "                l_l = letters[l1 - 1]\n",
    "                labels_array.append(l + '2' + l_l + '1' + p)\n",
    "                labels_array.append(l + '7' + l_l + '8' + p)\n",
    "            if l1 < 7:\n",
    "                l_r = letters[l1 + 1]\n",
    "                labels_array.append(l + '2' + l_r + '1' + p)\n",
    "                labels_array.append(l + '7' + l_r + '8' + p)\n",
    "    return labels_array"
   ]
  },
  {
   "cell_type": "code",
   "execution_count": null,
   "metadata": {},
   "outputs": [],
   "source": [
    "def flipped_uci_labels():\n",
    "    \"\"\"\n",
    "    Seems to somehow transform the labels used for describing the universal chess interface format, putting\n",
    "    them into a returned list.\n",
    "    :return:\n",
    "    \"\"\"\n",
    "    def repl(x):\n",
    "        return \"\".join([(str(9 - int(a)) if a.isdigit() else a) for a in x])\n",
    "\n",
    "    return [repl(x) for x in create_uci_labels()]"
   ]
  },
  {
   "cell_type": "code",
   "execution_count": null,
   "metadata": {},
   "outputs": [],
   "source": [
    "a = create_uci_labels()\n",
    "len(a)"
   ]
  },
  {
   "cell_type": "code",
   "execution_count": null,
   "metadata": {},
   "outputs": [],
   "source": [
    "def maybe_flip_fen(fen, flip = False):\n",
    "    if not flip:\n",
    "        return fen\n",
    "    foo = fen.split(' ')\n",
    "    rows = foo[0].split('/')\n",
    "    def swapcase(a):\n",
    "        if a.isalpha():\n",
    "            return a.lower() if a.isupper() else a.upper()\n",
    "        return a\n",
    "    def swapall(aa):\n",
    "        return \"\".join([swapcase(a) for a in aa])\n",
    "    return \"/\".join([swapall(row) for row in reversed(rows)]) \\\n",
    "        + \" \" + ('w' if foo[1] == 'b' else 'b') \\\n",
    "        + \" \" + \"\".join(sorted(swapall(foo[2]))) \\\n",
    "        + \" \" + foo[3] + \" \" + foo[4] + \" \" + foo[5]"
   ]
  },
  {
   "cell_type": "code",
   "execution_count": null,
   "metadata": {},
   "outputs": [],
   "source": [
    "print(env.board.fen())\n",
    "print(maybe_flip_fen(env.board.fen(), flip=True))"
   ]
  },
  {
   "cell_type": "code",
   "execution_count": null,
   "metadata": {},
   "outputs": [],
   "source": [
    "chess.Board(env.board.fen())"
   ]
  },
  {
   "cell_type": "code",
   "execution_count": null,
   "metadata": {},
   "outputs": [],
   "source": [
    "env.board.result(claim_draw=True)"
   ]
  },
  {
   "cell_type": "code",
   "execution_count": null,
   "metadata": {},
   "outputs": [],
   "source": []
  },
  {
   "cell_type": "code",
   "execution_count": null,
   "metadata": {},
   "outputs": [],
   "source": []
  }
 ],
 "metadata": {
  "kernelspec": {
   "display_name": "Python 3",
   "language": "python",
   "name": "python3"
  },
  "language_info": {
   "codemirror_mode": {
    "name": "ipython",
    "version": 3
   },
   "file_extension": ".py",
   "mimetype": "text/x-python",
   "name": "python",
   "nbconvert_exporter": "python",
   "pygments_lexer": "ipython3",
   "version": "3.6.4"
  }
 },
 "nbformat": 4,
 "nbformat_minor": 2
}
